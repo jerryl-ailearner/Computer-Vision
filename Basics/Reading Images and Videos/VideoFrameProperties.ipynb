{
 "cells": [
  {
   "cell_type": "code",
   "execution_count": 1,
   "metadata": {},
   "outputs": [],
   "source": [
    "import numpy as np"
   ]
  },
  {
   "cell_type": "code",
   "execution_count": 2,
   "metadata": {},
   "outputs": [],
   "source": [
    "import cv2"
   ]
  },
  {
   "cell_type": "code",
   "execution_count": 3,
   "metadata": {},
   "outputs": [],
   "source": [
    "def print_capture_properties(*args):\n",
    "    capture=cv2.VideoCapture(*args)\n",
    "    print('Created capture:', ' '.join(map(str, args)))\n",
    "    print('Frame count:', int(capture.get(cv2.CAP_PROP_FRAME_COUNT)))\n",
    "    print('Frame width:', int(capture.get(cv2.CAP_PROP_FRAME_WIDTH)))\n",
    "    print('Frame height:', int(capture.get(cv2.CAP_PROP_FRAME_HEIGHT)))\n",
    "    print('Frame rate:', int(capture.get(cv2.CAP_PROP_FPS)))"
   ]
  },
  {
   "cell_type": "code",
   "execution_count": 7,
   "metadata": {},
   "outputs": [
    {
     "name": "stdout",
     "output_type": "stream",
     "text": [
      "Created capture: ./data/video.mp4\n",
      "Frame count: 564\n",
      "Frame width: 3840\n",
      "Frame height: 2160\n",
      "Frame rate: 25\n"
     ]
    }
   ],
   "source": [
    "print_capture_properties('./data/video.mp4')"
   ]
  },
  {
   "cell_type": "code",
   "execution_count": null,
   "metadata": {},
   "outputs": [],
   "source": []
  }
 ],
 "metadata": {
  "kernelspec": {
   "display_name": "Python 3",
   "language": "python",
   "name": "python3"
  },
  "language_info": {
   "codemirror_mode": {
    "name": "ipython",
    "version": 3
   },
   "file_extension": ".py",
   "mimetype": "text/x-python",
   "name": "python",
   "nbconvert_exporter": "python",
   "pygments_lexer": "ipython3",
   "version": "3.7.3"
  }
 },
 "nbformat": 4,
 "nbformat_minor": 2
}
