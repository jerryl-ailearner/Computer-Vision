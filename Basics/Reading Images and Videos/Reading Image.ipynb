{
 "cells": [
  {
   "cell_type": "code",
   "execution_count": 1,
   "metadata": {},
   "outputs": [],
   "source": [
    "import argparse"
   ]
  },
  {
   "cell_type": "code",
   "execution_count": 2,
   "metadata": {},
   "outputs": [],
   "source": [
    "import cv2"
   ]
  },
  {
   "cell_type": "code",
   "execution_count": 20,
   "metadata": {},
   "outputs": [],
   "source": [
    "image_path=r\"C:\\Users\\37197\\Downloads\\PGPAIML Projects\\Computer Vision\\Data\\lena.png\""
   ]
  },
  {
   "cell_type": "code",
   "execution_count": 21,
   "metadata": {},
   "outputs": [],
   "source": [
    "img=cv2.imread(image_path)"
   ]
  },
  {
   "cell_type": "code",
   "execution_count": 22,
   "metadata": {},
   "outputs": [
    {
     "name": "stdout",
     "output_type": "stream",
     "text": [
      "read C:\\Users\\37197\\Downloads\\PGPAIML Projects\\Computer Vision\\Data\\lena.png\n"
     ]
    }
   ],
   "source": [
    "print('read {}'. format(image_path))"
   ]
  },
  {
   "cell_type": "code",
   "execution_count": 23,
   "metadata": {},
   "outputs": [
    {
     "name": "stdout",
     "output_type": "stream",
     "text": [
      "shape: (512, 512, 3)\n"
     ]
    }
   ],
   "source": [
    "print('shape:', img.shape)"
   ]
  },
  {
   "cell_type": "code",
   "execution_count": 24,
   "metadata": {},
   "outputs": [
    {
     "name": "stdout",
     "output_type": "stream",
     "text": [
      "dtype: uint8\n"
     ]
    }
   ],
   "source": [
    "print('dtype:', img.dtype)"
   ]
  },
  {
   "cell_type": "code",
   "execution_count": 25,
   "metadata": {},
   "outputs": [],
   "source": [
    "img_grayscale=cv2.imread(image_path, cv2.IMREAD_GRAYSCALE)"
   ]
  },
  {
   "cell_type": "code",
   "execution_count": 26,
   "metadata": {},
   "outputs": [
    {
     "name": "stdout",
     "output_type": "stream",
     "text": [
      "read C:\\Users\\37197\\Downloads\\PGPAIML Projects\\Computer Vision\\Data\\lena.png as grayscale\n"
     ]
    }
   ],
   "source": [
    "print('read {} as grayscale'.format(image_path))"
   ]
  },
  {
   "cell_type": "code",
   "execution_count": 28,
   "metadata": {},
   "outputs": [
    {
     "name": "stdout",
     "output_type": "stream",
     "text": [
      "shape: (512, 512, 3)\n"
     ]
    }
   ],
   "source": [
    "print('shape:', img.shape)"
   ]
  },
  {
   "cell_type": "code",
   "execution_count": 29,
   "metadata": {},
   "outputs": [
    {
     "name": "stdout",
     "output_type": "stream",
     "text": [
      "dtype: uint8\n"
     ]
    }
   ],
   "source": [
    "print('dtype:', img.dtype)"
   ]
  },
  {
   "cell_type": "code",
   "execution_count": 47,
   "metadata": {},
   "outputs": [
    {
     "name": "stdout",
     "output_type": "stream",
     "text": [
      "read C:\\Users\\37197\\Downloads\\PGPAIML Projects\\Computer Vision\\Data\\lena.png\n",
      "shape: (512, 512, 3)\n",
      "dtype: uint8\n",
      "read C:\\Users\\37197\\Downloads\\PGPAIML Projects\\Computer Vision\\Data\\lena.png as grayscale\n",
      "shape: (512, 512, 3)\n",
      "dtype: uint8\n"
     ]
    }
   ],
   "source": [
    "import ReadingImage"
   ]
  },
  {
   "cell_type": "code",
   "execution_count": null,
   "metadata": {},
   "outputs": [],
   "source": []
  }
 ],
 "metadata": {
  "kernelspec": {
   "display_name": "Python 3",
   "language": "python",
   "name": "python3"
  },
  "language_info": {
   "codemirror_mode": {
    "name": "ipython",
    "version": 3
   },
   "file_extension": ".py",
   "mimetype": "text/x-python",
   "name": "python",
   "nbconvert_exporter": "python",
   "pygments_lexer": "ipython3",
   "version": "3.7.3"
  }
 },
 "nbformat": 4,
 "nbformat_minor": 2
}
