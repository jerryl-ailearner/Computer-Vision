{
 "cells": [
  {
   "cell_type": "code",
   "execution_count": 9,
   "metadata": {},
   "outputs": [],
   "source": [
    "import cv2, numpy as np"
   ]
  },
  {
   "cell_type": "code",
   "execution_count": 10,
   "metadata": {},
   "outputs": [],
   "source": [
    "image=cv2.imread('./data/lena.png')"
   ]
  },
  {
   "cell_type": "code",
   "execution_count": 11,
   "metadata": {},
   "outputs": [],
   "source": [
    "image_to_show=np.copy(image)"
   ]
  },
  {
   "cell_type": "code",
   "execution_count": 12,
   "metadata": {},
   "outputs": [],
   "source": [
    "mouse_pressed=False"
   ]
  },
  {
   "cell_type": "code",
   "execution_count": 13,
   "metadata": {},
   "outputs": [],
   "source": [
    "s_x=s_y=e_x=e_y=-1"
   ]
  },
  {
   "cell_type": "code",
   "execution_count": 14,
   "metadata": {},
   "outputs": [],
   "source": [
    "def mouse_callback(event, x, y, flags, param):\n",
    "    global image_to_show,s_x,s_y,e_x,e_y,mouse_pressed\n",
    "    \n",
    "    if event==cv2.EVENT_LBUTTONDOWN:\n",
    "        mouse_pressed=True\n",
    "        s_x,s_y=x,y\n",
    "        image_to_show=np.copy(image)\n",
    "        print(\"event button down: \",s_x,s_y)\n",
    "        \n",
    "    elif event==cv2.EVENT_MOUSEMOVE:\n",
    "        if mouse_pressed:\n",
    "            image_to_show=np.copy(image)\n",
    "            cv2.rectangle(image_to_show, (s_x, s_y), (x,y),(0,255,0),1)\n",
    "        \n",
    "    elif event==cv2.EVENT_LBUTTONUP:\n",
    "        mouse_pressed=False\n",
    "        e_x,e_y=x,y\n",
    "        print(\"event button up: \", e_x,e_y)"
   ]
  },
  {
   "cell_type": "code",
   "execution_count": 15,
   "metadata": {},
   "outputs": [],
   "source": [
    "cv2.namedWindow('image')\n",
    "cv2.setMouseCallback('image', mouse_callback)"
   ]
  },
  {
   "cell_type": "code",
   "execution_count": 8,
   "metadata": {},
   "outputs": [
    {
     "name": "stdout",
     "output_type": "stream",
     "text": [
      "event button down:  43 24\n",
      "event button up:  458 506\n"
     ]
    }
   ],
   "source": [
    "while True:\n",
    "    cv2.imshow('image', image_to_show)\n",
    "    k=cv2.waitKey(1)\n",
    "    if k==ord('c'):\n",
    "        if s_y > e_y:\n",
    "            s_y, e_y=e_y, s_y\n",
    "        if s_x > e_x:\n",
    "            s_x,e_x=e_x,s_x\n",
    "        if e_y-s_y >1 and e_x-s_x>0:\n",
    "            image=image[s_y:e_y,s_x:e_x]\n",
    "            image_to_show=np.copy(image)\n",
    "    elif k==27:\n",
    "        break\n",
    "        \n",
    "cv2.destroyAllWindows()"
   ]
  },
  {
   "cell_type": "code",
   "execution_count": null,
   "metadata": {},
   "outputs": [],
   "source": []
  },
  {
   "cell_type": "code",
   "execution_count": null,
   "metadata": {},
   "outputs": [],
   "source": []
  }
 ],
 "metadata": {
  "kernelspec": {
   "display_name": "Python 3",
   "language": "python",
   "name": "python3"
  },
  "language_info": {
   "codemirror_mode": {
    "name": "ipython",
    "version": 3
   },
   "file_extension": ".py",
   "mimetype": "text/x-python",
   "name": "python",
   "nbconvert_exporter": "python",
   "pygments_lexer": "ipython3",
   "version": "3.7.3"
  }
 },
 "nbformat": 4,
 "nbformat_minor": 2
}
