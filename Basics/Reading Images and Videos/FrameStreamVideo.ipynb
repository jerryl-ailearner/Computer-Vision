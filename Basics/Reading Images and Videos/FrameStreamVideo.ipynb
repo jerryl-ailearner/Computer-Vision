{
 "cells": [
  {
   "cell_type": "code",
   "execution_count": 8,
   "metadata": {},
   "outputs": [],
   "source": [
    "import numpy as np, cv2"
   ]
  },
  {
   "cell_type": "code",
   "execution_count": 9,
   "metadata": {},
   "outputs": [],
   "source": [
    "capture=cv2.VideoCapture('./data/video.mp4')"
   ]
  },
  {
   "cell_type": "code",
   "execution_count": 10,
   "metadata": {},
   "outputs": [
    {
     "name": "stdout",
     "output_type": "stream",
     "text": [
      "Pressed Esc\n"
     ]
    }
   ],
   "source": [
    "while True:\n",
    "    has_frame,frame=capture.read()\n",
    "    if not has_frame:\n",
    "        print(\"You have reached the end of the vide\")\n",
    "        break\n",
    "        \n",
    "    cv2.imshow('frame', frame)\n",
    "    key=cv2.waitKey(50)\n",
    "    if key == 27:\n",
    "        print(\"Pressed Esc\")\n",
    "        break\n",
    "\n",
    "cv2.destroyAllWindows()"
   ]
  },
  {
   "cell_type": "code",
   "execution_count": null,
   "metadata": {},
   "outputs": [],
   "source": []
  }
 ],
 "metadata": {
  "kernelspec": {
   "display_name": "Python 3",
   "language": "python",
   "name": "python3"
  },
  "language_info": {
   "codemirror_mode": {
    "name": "ipython",
    "version": 3
   },
   "file_extension": ".py",
   "mimetype": "text/x-python",
   "name": "python",
   "nbconvert_exporter": "python",
   "pygments_lexer": "ipython3",
   "version": "3.7.3"
  }
 },
 "nbformat": 4,
 "nbformat_minor": 2
}
