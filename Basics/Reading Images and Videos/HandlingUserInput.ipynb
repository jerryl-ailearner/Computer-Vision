{
 "cells": [
  {
   "cell_type": "code",
   "execution_count": 1,
   "metadata": {},
   "outputs": [],
   "source": [
    "import cv2, numpy as np, random"
   ]
  },
  {
   "cell_type": "code",
   "execution_count": 3,
   "metadata": {},
   "outputs": [],
   "source": [
    "image=cv2.imread('./data/lena.png')"
   ]
  },
  {
   "cell_type": "code",
   "execution_count": 4,
   "metadata": {},
   "outputs": [],
   "source": [
    "w,h=image.shape[1], image.shape[0]"
   ]
  },
  {
   "cell_type": "code",
   "execution_count": 5,
   "metadata": {},
   "outputs": [],
   "source": [
    "image_to_show=np.copy(image)"
   ]
  },
  {
   "cell_type": "code",
   "execution_count": 6,
   "metadata": {},
   "outputs": [],
   "source": [
    "def rand_pt():\n",
    "    return(random.randrange(w), random.randrange(h))"
   ]
  },
  {
   "cell_type": "code",
   "execution_count": 7,
   "metadata": {},
   "outputs": [],
   "source": [
    "finish=False"
   ]
  },
  {
   "cell_type": "code",
   "execution_count": 8,
   "metadata": {},
   "outputs": [],
   "source": [
    "while not finish:\n",
    "    cv2.imshow(\"result\", image_to_show)\n",
    "    key=cv2.waitKey(0)\n",
    "    if key==ord('p'):\n",
    "        for pt in [rand_pt() for _ in range(10)]:\n",
    "            cv2.circle(image_to_show, pt, 3, (255,0,0), -1)\n",
    "    elif key == ord('l'):\n",
    "        cv2.line(image_to_show, rand_pt(), rand_pt(), (0,255,0),3)\n",
    "    elif key == ord('r'):\n",
    "        cv2.rectangle(image_to_show, rand_pt(), rand_pt(), (0,0,255),3)\n",
    "    elif key == ord('e'):\n",
    "        cv2.ellipse(image_to_show, rand_pt(), rand_pt(),random.randrange(360),0,360, (0,0,255), 3)\n",
    "    elif key==ord('t'):\n",
    "        cv2.putText(image_to_show, 'OpenCV', rand_pt(), cv2.FONT_HERSHEY_SIMPLEX,1,(0,0,0),3)\n",
    "    elif key==ord('c'):\n",
    "        image_to_show=np.copy(image)\n",
    "    elif key==27:\n",
    "        finish=True\n",
    "        cv2.waitKey(0)"
   ]
  },
  {
   "cell_type": "code",
   "execution_count": null,
   "metadata": {},
   "outputs": [],
   "source": []
  }
 ],
 "metadata": {
  "kernelspec": {
   "display_name": "Python 3",
   "language": "python",
   "name": "python3"
  },
  "language_info": {
   "codemirror_mode": {
    "name": "ipython",
    "version": 3
   },
   "file_extension": ".py",
   "mimetype": "text/x-python",
   "name": "python",
   "nbconvert_exporter": "python",
   "pygments_lexer": "ipython3",
   "version": "3.7.3"
  }
 },
 "nbformat": 4,
 "nbformat_minor": 2
}
